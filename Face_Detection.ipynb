{
 "cells": [
  {
   "cell_type": "markdown",
   "metadata": {},
   "source": [
    "# 1. Setting up Paths\n"
   ]
  },
  {
   "cell_type": "code",
   "execution_count": 1,
   "metadata": {},
   "outputs": [],
   "source": [
    "WORKSPACE_PATH = 'Tensorflow/workspace'\n",
    "SCRIPTS_PATH = 'Tensorflow/scripts'\n",
    "APIMODEL_PATH = 'Tensorflow/models'\n",
    "ANNOTATION_PATH = WORKSPACE_PATH+'/annotations'\n",
    "IMAGE_PATH = WORKSPACE_PATH+'/images'\n",
    "MODEL_PATH = WORKSPACE_PATH+'/models'\n",
    "NEW_MODEL_PATH = WORKSPACE_PATH+'/new-model'\n",
    "CONFIG_PATH = MODEL_PATH+'/my_ssd_mobnet/pipeline.config'\n",
    "CHECKPOINT_PATH = MODEL_PATH+'/my_ssd_mobnet/'"
   ]
  },
  {
   "cell_type": "markdown",
   "metadata": {},
   "source": [
    "# 2. Pre-processing of the images"
   ]
  },
  {
   "cell_type": "code",
   "execution_count": 2,
   "metadata": {},
   "outputs": [],
   "source": [
    "from keras.layers import Input, Lambda, Dense, Flatten,Dropout\n",
    "from keras.models import Model\n",
    "from keras.applications.vgg19 import VGG19\n",
    "from keras.applications.vgg19 import preprocess_input\n",
    "from keras.preprocessing import image\n",
    "from keras.preprocessing.image import ImageDataGenerator\n",
    "from keras.models import Sequential\n",
    "import numpy as np\n",
    "import pandas as pd\n",
    "import os"
   ]
  },
  {
   "cell_type": "code",
   "execution_count": 3,
   "metadata": {},
   "outputs": [],
   "source": [
    "TRAIN_PATH=IMAGE_PATH+\"/train\"\n",
    "TEST_PATH=IMAGE_PATH+\"/test\"\n",
    "VAL_PATH=IMAGE_PATH+\"/val\""
   ]
  },
  {
   "cell_type": "code",
   "execution_count": 6,
   "metadata": {},
   "outputs": [],
   "source": [
    "import cv2\n",
    "\n",
    "x_train=[]\n",
    "\n",
    "sub_path=TRAIN_PATH+\"/\"\n",
    "\n",
    "for img in os.listdir(sub_path):\n",
    "\n",
    "    IMAGE_PATH=sub_path+img\n",
    "\n",
    "    img_arr=cv2.imread(IMAGE_PATH)\n",
    "\n",
    "    x_train.append(img_arr)\n",
    "\n",
    "x_test=[]\n",
    "\n",
    "sub_path=TEST_PATH+\"/\"\n",
    "\n",
    "for img in os.listdir(sub_path):\n",
    "\n",
    "    IMAGE_PATH=sub_path+img\n",
    "\n",
    "    img_arr=cv2.imread(IMAGE_PATH)\n",
    "\n",
    "    x_test.append(img_arr)\n",
    "\n",
    "x_val=[]\n",
    "\n",
    "sub_path=VAL_PATH+\"/\"\n",
    "\n",
    "for img in os.listdir(sub_path):\n",
    "\n",
    "    IMAGE_PATH=sub_path+img\n",
    "\n",
    "    img_arr=cv2.imread(IMAGE_PATH)\n",
    "\n",
    "    x_val.append(img_arr)"
   ]
  },
  {
   "cell_type": "code",
   "execution_count": 9,
   "metadata": {},
   "outputs": [],
   "source": [
    "import numpy as np\n",
    "\n",
    "train_x=np.array(x_train)\n",
    "test_x=np.array(x_test)\n",
    "val_x=np.array(x_val)\n",
    "\n",
    "train_x=train_x/255.0\n",
    "test_x=test_x/255.0\n",
    "val_x=val_x/255.0"
   ]
  },
  {
   "cell_type": "code",
   "execution_count": 13,
   "metadata": {},
   "outputs": [
    {
     "name": "stdout",
     "output_type": "stream",
     "text": [
      "Found 0 images belonging to 0 classes.\n",
      "Found 0 images belonging to 0 classes.\n",
      "Found 0 images belonging to 0 classes.\n"
     ]
    }
   ],
   "source": [
    "from keras.preprocessing.image import ImageDataGenerator\n",
    "\n",
    "train_datagen = ImageDataGenerator(rescale = 1./255)\n",
    "test_datagen = ImageDataGenerator(rescale = 1./255)\n",
    "val_datagen = ImageDataGenerator(rescale = 1./255)\n",
    "\n",
    "training_set = train_datagen.flow_from_directory(TRAIN_PATH,\n",
    "                                                 target_size = (128, 128),\n",
    "                                                 batch_size = 32,\n",
    "                                                 class_mode = 'sparse')\n",
    "test_set = test_datagen.flow_from_directory(TEST_PATH,\n",
    "                                            target_size = (128, 128),\n",
    "                                            batch_size = 32,\n",
    "                                            class_mode = 'sparse')\n",
    "val_set = val_datagen.flow_from_directory(VAL_PATH,\n",
    "                                            target_size = (128, 128),\n",
    "                                            batch_size = 32,\n",
    "                                            class_mode = 'sparse')"
   ]
  },
  {
   "cell_type": "code",
   "execution_count": 27,
   "metadata": {},
   "outputs": [],
   "source": [
    "train_y=training_set.classes\n",
    "test_y=test_set.classes\n",
    "val_y=val_set.classes"
   ]
  },
  {
   "cell_type": "code",
   "execution_count": 28,
   "metadata": {},
   "outputs": [
    {
     "data": {
      "text/plain": [
       "((0,), (0,), (0,))"
      ]
     },
     "execution_count": 28,
     "metadata": {},
     "output_type": "execute_result"
    }
   ],
   "source": [
    "training_set.class_indices\n",
    "\n",
    "train_y.shape,test_y.shape,val_y.shape"
   ]
  },
  {
   "cell_type": "code",
   "execution_count": 31,
   "metadata": {},
   "outputs": [
    {
     "ename": "ValueError",
     "evalue": "The input must have 3 channels; Received `input_shape=(128, 128, 1)`",
     "output_type": "error",
     "traceback": [
      "\u001b[1;31m---------------------------------------------------------------------------\u001b[0m",
      "\u001b[1;31mValueError\u001b[0m                                Traceback (most recent call last)",
      "\u001b[1;32md:\\RealTimeFaceDetection\\Face_Detection.ipynb Cell 14'\u001b[0m in \u001b[0;36m<cell line: 4>\u001b[1;34m()\u001b[0m\n\u001b[0;32m      <a href='vscode-notebook-cell:/d%3A/RealTimeFaceDetection/Face_Detection.ipynb#ch0000013?line=0'>1</a>\u001b[0m \u001b[39mfrom\u001b[39;00m \u001b[39mkeras\u001b[39;00m\u001b[39m.\u001b[39;00m\u001b[39mapplications\u001b[39;00m\u001b[39m.\u001b[39;00m\u001b[39mvgg19\u001b[39;00m \u001b[39mimport\u001b[39;00m VGG19\n\u001b[0;32m      <a href='vscode-notebook-cell:/d%3A/RealTimeFaceDetection/Face_Detection.ipynb#ch0000013?line=1'>2</a>\u001b[0m \u001b[39mfrom\u001b[39;00m \u001b[39mkeras\u001b[39;00m\u001b[39m.\u001b[39;00m\u001b[39mapplications\u001b[39;00m\u001b[39m.\u001b[39;00m\u001b[39mvgg19\u001b[39;00m \u001b[39mimport\u001b[39;00m preprocess_input\n\u001b[1;32m----> <a href='vscode-notebook-cell:/d%3A/RealTimeFaceDetection/Face_Detection.ipynb#ch0000013?line=3'>4</a>\u001b[0m vgg \u001b[39m=\u001b[39m VGG19(input_shape \u001b[39m=\u001b[39;49m (\u001b[39m128\u001b[39;49m,\u001b[39m128\u001b[39;49m,\u001b[39m1\u001b[39;49m), weights\u001b[39m=\u001b[39;49m\u001b[39m'\u001b[39;49m\u001b[39mimagenet\u001b[39;49m\u001b[39m'\u001b[39;49m, include_top\u001b[39m=\u001b[39;49m\u001b[39mFalse\u001b[39;49;00m)\n",
      "File \u001b[1;32mc:\\Users\\Tumul Ranjan\\AppData\\Local\\Programs\\Python\\Python310\\lib\\site-packages\\keras\\applications\\vgg19.py:127\u001b[0m, in \u001b[0;36mVGG19\u001b[1;34m(include_top, weights, input_tensor, input_shape, pooling, classes, classifier_activation)\u001b[0m\n\u001b[0;32m    <a href='file:///c%3A/Users/Tumul%20Ranjan/AppData/Local/Programs/Python/Python310/lib/site-packages/keras/applications/vgg19.py?line=122'>123</a>\u001b[0m   \u001b[39mraise\u001b[39;00m \u001b[39mValueError\u001b[39;00m(\u001b[39m'\u001b[39m\u001b[39mIf using `weights` as `\u001b[39m\u001b[39m\"\u001b[39m\u001b[39mimagenet\u001b[39m\u001b[39m\"\u001b[39m\u001b[39m` with `include_top` \u001b[39m\u001b[39m'\u001b[39m\n\u001b[0;32m    <a href='file:///c%3A/Users/Tumul%20Ranjan/AppData/Local/Programs/Python/Python310/lib/site-packages/keras/applications/vgg19.py?line=123'>124</a>\u001b[0m                    \u001b[39m'\u001b[39m\u001b[39mas true, `classes` should be 1000.  \u001b[39m\u001b[39m'\u001b[39m\n\u001b[0;32m    <a href='file:///c%3A/Users/Tumul%20Ranjan/AppData/Local/Programs/Python/Python310/lib/site-packages/keras/applications/vgg19.py?line=124'>125</a>\u001b[0m                    \u001b[39mf\u001b[39m\u001b[39m'\u001b[39m\u001b[39mReceived: `classes=\u001b[39m\u001b[39m{\u001b[39;00mclasses\u001b[39m}\u001b[39;00m\u001b[39m.`\u001b[39m\u001b[39m'\u001b[39m)\n\u001b[0;32m    <a href='file:///c%3A/Users/Tumul%20Ranjan/AppData/Local/Programs/Python/Python310/lib/site-packages/keras/applications/vgg19.py?line=125'>126</a>\u001b[0m \u001b[39m# Determine proper input shape\u001b[39;00m\n\u001b[1;32m--> <a href='file:///c%3A/Users/Tumul%20Ranjan/AppData/Local/Programs/Python/Python310/lib/site-packages/keras/applications/vgg19.py?line=126'>127</a>\u001b[0m input_shape \u001b[39m=\u001b[39m imagenet_utils\u001b[39m.\u001b[39;49mobtain_input_shape(\n\u001b[0;32m    <a href='file:///c%3A/Users/Tumul%20Ranjan/AppData/Local/Programs/Python/Python310/lib/site-packages/keras/applications/vgg19.py?line=127'>128</a>\u001b[0m     input_shape,\n\u001b[0;32m    <a href='file:///c%3A/Users/Tumul%20Ranjan/AppData/Local/Programs/Python/Python310/lib/site-packages/keras/applications/vgg19.py?line=128'>129</a>\u001b[0m     default_size\u001b[39m=\u001b[39;49m\u001b[39m224\u001b[39;49m,\n\u001b[0;32m    <a href='file:///c%3A/Users/Tumul%20Ranjan/AppData/Local/Programs/Python/Python310/lib/site-packages/keras/applications/vgg19.py?line=129'>130</a>\u001b[0m     min_size\u001b[39m=\u001b[39;49m\u001b[39m32\u001b[39;49m,\n\u001b[0;32m    <a href='file:///c%3A/Users/Tumul%20Ranjan/AppData/Local/Programs/Python/Python310/lib/site-packages/keras/applications/vgg19.py?line=130'>131</a>\u001b[0m     data_format\u001b[39m=\u001b[39;49mbackend\u001b[39m.\u001b[39;49mimage_data_format(),\n\u001b[0;32m    <a href='file:///c%3A/Users/Tumul%20Ranjan/AppData/Local/Programs/Python/Python310/lib/site-packages/keras/applications/vgg19.py?line=131'>132</a>\u001b[0m     require_flatten\u001b[39m=\u001b[39;49minclude_top,\n\u001b[0;32m    <a href='file:///c%3A/Users/Tumul%20Ranjan/AppData/Local/Programs/Python/Python310/lib/site-packages/keras/applications/vgg19.py?line=132'>133</a>\u001b[0m     weights\u001b[39m=\u001b[39;49mweights)\n\u001b[0;32m    <a href='file:///c%3A/Users/Tumul%20Ranjan/AppData/Local/Programs/Python/Python310/lib/site-packages/keras/applications/vgg19.py?line=134'>135</a>\u001b[0m \u001b[39mif\u001b[39;00m input_tensor \u001b[39mis\u001b[39;00m \u001b[39mNone\u001b[39;00m:\n\u001b[0;32m    <a href='file:///c%3A/Users/Tumul%20Ranjan/AppData/Local/Programs/Python/Python310/lib/site-packages/keras/applications/vgg19.py?line=135'>136</a>\u001b[0m   img_input \u001b[39m=\u001b[39m layers\u001b[39m.\u001b[39mInput(shape\u001b[39m=\u001b[39minput_shape)\n",
      "File \u001b[1;32mc:\\Users\\Tumul Ranjan\\AppData\\Local\\Programs\\Python\\Python310\\lib\\site-packages\\keras\\applications\\imagenet_utils.py:372\u001b[0m, in \u001b[0;36mobtain_input_shape\u001b[1;34m(input_shape, default_size, min_size, data_format, require_flatten, weights)\u001b[0m\n\u001b[0;32m    <a href='file:///c%3A/Users/Tumul%20Ranjan/AppData/Local/Programs/Python/Python310/lib/site-packages/keras/applications/imagenet_utils.py?line=369'>370</a>\u001b[0m   \u001b[39mraise\u001b[39;00m \u001b[39mValueError\u001b[39;00m(\u001b[39m'\u001b[39m\u001b[39m`input_shape` must be a tuple of three integers.\u001b[39m\u001b[39m'\u001b[39m)\n\u001b[0;32m    <a href='file:///c%3A/Users/Tumul%20Ranjan/AppData/Local/Programs/Python/Python310/lib/site-packages/keras/applications/imagenet_utils.py?line=370'>371</a>\u001b[0m \u001b[39mif\u001b[39;00m input_shape[\u001b[39m-\u001b[39m\u001b[39m1\u001b[39m] \u001b[39m!=\u001b[39m \u001b[39m3\u001b[39m \u001b[39mand\u001b[39;00m weights \u001b[39m==\u001b[39m \u001b[39m'\u001b[39m\u001b[39mimagenet\u001b[39m\u001b[39m'\u001b[39m:\n\u001b[1;32m--> <a href='file:///c%3A/Users/Tumul%20Ranjan/AppData/Local/Programs/Python/Python310/lib/site-packages/keras/applications/imagenet_utils.py?line=371'>372</a>\u001b[0m   \u001b[39mraise\u001b[39;00m \u001b[39mValueError\u001b[39;00m(\u001b[39m'\u001b[39m\u001b[39mThe input must have 3 channels; Received \u001b[39m\u001b[39m'\u001b[39m\n\u001b[0;32m    <a href='file:///c%3A/Users/Tumul%20Ranjan/AppData/Local/Programs/Python/Python310/lib/site-packages/keras/applications/imagenet_utils.py?line=372'>373</a>\u001b[0m                    \u001b[39mf\u001b[39m\u001b[39m'\u001b[39m\u001b[39m`input_shape=\u001b[39m\u001b[39m{\u001b[39;00minput_shape\u001b[39m}\u001b[39;00m\u001b[39m`\u001b[39m\u001b[39m'\u001b[39m)\n\u001b[0;32m    <a href='file:///c%3A/Users/Tumul%20Ranjan/AppData/Local/Programs/Python/Python310/lib/site-packages/keras/applications/imagenet_utils.py?line=373'>374</a>\u001b[0m \u001b[39mif\u001b[39;00m ((input_shape[\u001b[39m0\u001b[39m] \u001b[39mis\u001b[39;00m \u001b[39mnot\u001b[39;00m \u001b[39mNone\u001b[39;00m \u001b[39mand\u001b[39;00m input_shape[\u001b[39m0\u001b[39m] \u001b[39m<\u001b[39m min_size) \u001b[39mor\u001b[39;00m\n\u001b[0;32m    <a href='file:///c%3A/Users/Tumul%20Ranjan/AppData/Local/Programs/Python/Python310/lib/site-packages/keras/applications/imagenet_utils.py?line=374'>375</a>\u001b[0m     (input_shape[\u001b[39m1\u001b[39m] \u001b[39mis\u001b[39;00m \u001b[39mnot\u001b[39;00m \u001b[39mNone\u001b[39;00m \u001b[39mand\u001b[39;00m input_shape[\u001b[39m1\u001b[39m] \u001b[39m<\u001b[39m min_size)):\n\u001b[0;32m    <a href='file:///c%3A/Users/Tumul%20Ranjan/AppData/Local/Programs/Python/Python310/lib/site-packages/keras/applications/imagenet_utils.py?line=375'>376</a>\u001b[0m   \u001b[39mraise\u001b[39;00m \u001b[39mValueError\u001b[39;00m(\u001b[39m'\u001b[39m\u001b[39mInput size must be at least \u001b[39m\u001b[39m'\u001b[39m\n\u001b[0;32m    <a href='file:///c%3A/Users/Tumul%20Ranjan/AppData/Local/Programs/Python/Python310/lib/site-packages/keras/applications/imagenet_utils.py?line=376'>377</a>\u001b[0m                    \u001b[39mf\u001b[39m\u001b[39m'\u001b[39m\u001b[39m{\u001b[39;00mmin_size\u001b[39m}\u001b[39;00m\u001b[39mx\u001b[39m\u001b[39m{\u001b[39;00mmin_size\u001b[39m}\u001b[39;00m\u001b[39m; Received: \u001b[39m\u001b[39m'\u001b[39m\n\u001b[0;32m    <a href='file:///c%3A/Users/Tumul%20Ranjan/AppData/Local/Programs/Python/Python310/lib/site-packages/keras/applications/imagenet_utils.py?line=377'>378</a>\u001b[0m                    \u001b[39mf\u001b[39m\u001b[39m'\u001b[39m\u001b[39minput_shape=\u001b[39m\u001b[39m{\u001b[39;00minput_shape\u001b[39m}\u001b[39;00m\u001b[39m'\u001b[39m)\n",
      "\u001b[1;31mValueError\u001b[0m: The input must have 3 channels; Received `input_shape=(128, 128, 1)`"
     ]
    }
   ],
   "source": [
    "from keras.applications.vgg19 import VGG19\n",
    "from keras.applications.vgg19 import preprocess_input\n",
    "\n",
    "vgg = VGG19(input_shape = (128,128,3), weights='imagenet', include_top=False)"
   ]
  },
  {
   "cell_type": "code",
   "execution_count": 12,
   "metadata": {},
   "outputs": [],
   "source": [
    "#do not train the pre-trained layers of VGG-19\n",
    "for layer in vgg.layers:\n",
    "    layer.trainable = False"
   ]
  },
  {
   "cell_type": "code",
   "execution_count": 13,
   "metadata": {},
   "outputs": [
    {
     "name": "stdout",
     "output_type": "stream",
     "text": [
      "KerasTensor(type_spec=TensorSpec(shape=(None, 3), dtype=tf.float32, name=None), name='dense/Softmax:0', description=\"created by layer 'dense'\")\n"
     ]
    }
   ],
   "source": [
    "x = Flatten()(vgg.output)\n",
    "\n",
    "#adding output layer.Softmax classifier is used as it is multi-class classification\n",
    "prediction = Dense(3, activation='softmax')(x)\n",
    "\n",
    "model = Model(inputs=vgg.input, outputs=prediction)\n",
    "print(prediction)"
   ]
  },
  {
   "cell_type": "code",
   "execution_count": 14,
   "metadata": {},
   "outputs": [
    {
     "name": "stdout",
     "output_type": "stream",
     "text": [
      "Model: \"model\"\n",
      "_________________________________________________________________\n",
      " Layer (type)                Output Shape              Param #   \n",
      "=================================================================\n",
      " input_1 (InputLayer)        [(None, 224, 224, 3)]     0         \n",
      "                                                                 \n",
      " block1_conv1 (Conv2D)       (None, 224, 224, 64)      1792      \n",
      "                                                                 \n",
      " block1_conv2 (Conv2D)       (None, 224, 224, 64)      36928     \n",
      "                                                                 \n",
      " block1_pool (MaxPooling2D)  (None, 112, 112, 64)      0         \n",
      "                                                                 \n",
      " block2_conv1 (Conv2D)       (None, 112, 112, 128)     73856     \n",
      "                                                                 \n",
      " block2_conv2 (Conv2D)       (None, 112, 112, 128)     147584    \n",
      "                                                                 \n",
      " block2_pool (MaxPooling2D)  (None, 56, 56, 128)       0         \n",
      "                                                                 \n",
      " block3_conv1 (Conv2D)       (None, 56, 56, 256)       295168    \n",
      "                                                                 \n",
      " block3_conv2 (Conv2D)       (None, 56, 56, 256)       590080    \n",
      "                                                                 \n",
      " block3_conv3 (Conv2D)       (None, 56, 56, 256)       590080    \n",
      "                                                                 \n",
      " block3_conv4 (Conv2D)       (None, 56, 56, 256)       590080    \n",
      "                                                                 \n",
      " block3_pool (MaxPooling2D)  (None, 28, 28, 256)       0         \n",
      "                                                                 \n",
      " block4_conv1 (Conv2D)       (None, 28, 28, 512)       1180160   \n",
      "                                                                 \n",
      " block4_conv2 (Conv2D)       (None, 28, 28, 512)       2359808   \n",
      "                                                                 \n",
      " block4_conv3 (Conv2D)       (None, 28, 28, 512)       2359808   \n",
      "                                                                 \n",
      " block4_conv4 (Conv2D)       (None, 28, 28, 512)       2359808   \n",
      "                                                                 \n",
      " block4_pool (MaxPooling2D)  (None, 14, 14, 512)       0         \n",
      "                                                                 \n",
      " block5_conv1 (Conv2D)       (None, 14, 14, 512)       2359808   \n",
      "                                                                 \n",
      " block5_conv2 (Conv2D)       (None, 14, 14, 512)       2359808   \n",
      "                                                                 \n",
      " block5_conv3 (Conv2D)       (None, 14, 14, 512)       2359808   \n",
      "                                                                 \n",
      " block5_conv4 (Conv2D)       (None, 14, 14, 512)       2359808   \n",
      "                                                                 \n",
      " block5_pool (MaxPooling2D)  (None, 7, 7, 512)         0         \n",
      "                                                                 \n",
      " flatten (Flatten)           (None, 25088)             0         \n",
      "                                                                 \n",
      " dense (Dense)               (None, 3)                 75267     \n",
      "                                                                 \n",
      "=================================================================\n",
      "Total params: 20,099,651\n",
      "Trainable params: 75,267\n",
      "Non-trainable params: 20,024,384\n",
      "_________________________________________________________________\n"
     ]
    }
   ],
   "source": [
    "# view the structure of the model\n",
    "model.summary()"
   ]
  },
  {
   "cell_type": "code",
   "execution_count": 15,
   "metadata": {},
   "outputs": [],
   "source": [
    "model.compile(\n",
    "  loss='sparse_categorical_crossentropy',\n",
    "  optimizer=\"adam\",\n",
    "  metrics=['accuracy']\n",
    ")"
   ]
  },
  {
   "cell_type": "code",
   "execution_count": 16,
   "metadata": {},
   "outputs": [],
   "source": [
    "from keras.callbacks import EarlyStopping\n",
    "early_stop=EarlyStopping(monitor='val_loss',mode='min',verbose=1,patience=5)\n",
    "#Early stopping to avoid overfitting of model"
   ]
  },
  {
   "cell_type": "code",
   "execution_count": 17,
   "metadata": {},
   "outputs": [
    {
     "name": "stdout",
     "output_type": "stream",
     "text": [
      "Epoch 1/10\n",
      "44/44 [==============================] - 14s 178ms/step - loss: 0.5431 - accuracy: 0.8294 - val_loss: 0.0630 - val_accuracy: 0.9857\n",
      "Epoch 2/10\n",
      "44/44 [==============================] - 5s 111ms/step - loss: 0.0401 - accuracy: 0.9914 - val_loss: 0.0376 - val_accuracy: 0.9943\n",
      "Epoch 3/10\n",
      "44/44 [==============================] - 5s 113ms/step - loss: 0.0230 - accuracy: 0.9993 - val_loss: 0.0425 - val_accuracy: 0.9886\n",
      "Epoch 4/10\n",
      "44/44 [==============================] - 5s 112ms/step - loss: 0.0149 - accuracy: 1.0000 - val_loss: 0.0290 - val_accuracy: 0.9943\n",
      "Epoch 5/10\n",
      "44/44 [==============================] - 5s 113ms/step - loss: 0.0098 - accuracy: 1.0000 - val_loss: 0.0247 - val_accuracy: 0.9971\n",
      "Epoch 6/10\n",
      "44/44 [==============================] - 5s 113ms/step - loss: 0.0074 - accuracy: 1.0000 - val_loss: 0.0233 - val_accuracy: 0.9971\n",
      "Epoch 7/10\n",
      "44/44 [==============================] - 5s 114ms/step - loss: 0.0060 - accuracy: 1.0000 - val_loss: 0.0213 - val_accuracy: 0.9971\n",
      "Epoch 8/10\n",
      "44/44 [==============================] - 5s 114ms/step - loss: 0.0051 - accuracy: 1.0000 - val_loss: 0.0230 - val_accuracy: 0.9971\n",
      "Epoch 9/10\n",
      "44/44 [==============================] - 5s 114ms/step - loss: 0.0042 - accuracy: 1.0000 - val_loss: 0.0201 - val_accuracy: 0.9971\n",
      "Epoch 10/10\n",
      "44/44 [==============================] - 5s 114ms/step - loss: 0.0035 - accuracy: 1.0000 - val_loss: 0.0191 - val_accuracy: 0.9971\n"
     ]
    }
   ],
   "source": [
    "# fit the model\n",
    "history = model.fit(\n",
    "  train_x,\n",
    "  train_y,\n",
    "  validation_data=(val_x,val_y),\n",
    "  epochs=10,\n",
    "  callbacks=[early_stop],\n",
    "  batch_size=32,shuffle=True)"
   ]
  },
  {
   "cell_type": "code",
   "execution_count": 18,
   "metadata": {},
   "outputs": [
    {
     "data": {
      "image/png": "[encoded data removed]",
      "text/plain": [
       "<Figure size 432x288 with 1 Axes>"
      ]
     },
     "metadata": {
      "needs_background": "light"
     },
     "output_type": "display_data"
    }
   ],
   "source": [
    "# accuracies\n",
    "\n",
    "plt.plot(history.history['accuracy'], label='train acc')\n",
    "\n",
    "plt.plot(history.history['val_accuracy'], label='val acc')\n",
    "\n",
    "plt.legend()\n",
    "\n",
    "plt.savefig('vgg-acc-fd-1.png')\n",
    "\n",
    "plt.show()"
   ]
  },
  {
   "cell_type": "code",
   "execution_count": 19,
   "metadata": {},
   "outputs": [
    {
     "data": {
      "image/png": "[encoded data removed]",
      "text/plain": [
       "<Figure size 432x288 with 1 Axes>"
      ]
     },
     "metadata": {
      "needs_background": "light"
     },
     "output_type": "display_data"
    }
   ],
   "source": [
    "# loss\n",
    "plt.plot(history.history['loss'], label='train loss')\n",
    "plt.plot(history.history['val_loss'], label='val loss')\n",
    "plt.legend()\n",
    "plt.savefig('vgg-loss-fd-1.png')\n",
    "plt.show()"
   ]
  },
  {
   "cell_type": "code",
   "execution_count": 20,
   "metadata": {},
   "outputs": [
    {
     "name": "stdout",
     "output_type": "stream",
     "text": [
      "14/14 [==============================] - 2s 169ms/step - loss: 0.0167 - accuracy: 1.0000\n"
     ]
    },
    {
     "data": {
      "text/plain": [
       "[0.016677411273121834, 1.0]"
      ]
     },
     "execution_count": 20,
     "metadata": {},
     "output_type": "execute_result"
    }
   ],
   "source": [
    "model.evaluate(test_x,test_y,batch_size=32)"
   ]
  },
  {
   "cell_type": "code",
   "execution_count": 21,
   "metadata": {},
   "outputs": [],
   "source": [
    "from sklearn.metrics import accuracy_score,classification_report,confusion_matrix\n",
    "import numpy as np"
   ]
  },
  {
   "cell_type": "code",
   "execution_count": 22,
   "metadata": {},
   "outputs": [],
   "source": [
    "#predict\n",
    "y_pred=model.predict(test_x)\n",
    "y_pred=np.argmax(y_pred,axis=1)"
   ]
  },
  {
   "cell_type": "code",
   "execution_count": 23,
   "metadata": {},
   "outputs": [
    {
     "name": "stdout",
     "output_type": "stream",
     "text": [
      "              precision    recall  f1-score   support\n",
      "\n",
      "           0       1.00      1.00      1.00       142\n",
      "           1       1.00      1.00      1.00       145\n",
      "           2       1.00      1.00      1.00       150\n",
      "\n",
      "    accuracy                           1.00       437\n",
      "   macro avg       1.00      1.00      1.00       437\n",
      "weighted avg       1.00      1.00      1.00       437\n",
      "\n"
     ]
    }
   ],
   "source": [
    "#get classification report\n",
    "print(classification_report(y_pred,test_y))"
   ]
  },
  {
   "cell_type": "code",
   "execution_count": 24,
   "metadata": {},
   "outputs": [
    {
     "name": "stdout",
     "output_type": "stream",
     "text": [
      "[[142   0   0]\n",
      " [  0 145   0]\n",
      " [  0   0 150]]\n",
      "KerasTensor(type_spec=TensorSpec(shape=(None, 3), dtype=tf.float32, name=None), name='dense/Softmax:0', description=\"created by layer 'dense'\")\n"
     ]
    }
   ],
   "source": [
    "print(confusion_matrix(y_pred,test_y))\n",
    "print(prediction)"
   ]
  },
  {
   "cell_type": "code",
   "execution_count": 25,
   "metadata": {},
   "outputs": [],
   "source": [
    "model.save(\"vgg-FD-final.h5\")"
   ]
  }
 ],
 "metadata": {
  "interpreter": {
   "hash": "55690925acbc6af761f81590b17e37a045fbdf5f9ff798db998317d29a3a00b1"
  },
  "kernelspec": {
   "display_name": "Python 3.10.4 64-bit",
   "language": "python",
   "name": "python3"
  },
  "language_info": {
   "codemirror_mode": {
    "name": "ipython",
    "version": 3
   },
   "file_extension": ".py",
   "mimetype": "text/x-python",
   "name": "python",
   "nbconvert_exporter": "python",
   "pygments_lexer": "ipython3",
   "version": "3.10.4"
  },
  "orig_nbformat": 4
 },
 "nbformat": 4,
 "nbformat_minor": 2
}
